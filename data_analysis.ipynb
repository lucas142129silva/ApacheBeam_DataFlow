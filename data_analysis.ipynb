{
 "cells": [
  {
   "cell_type": "markdown",
   "id": "18e85595",
   "metadata": {},
   "source": [
    "<div style=\"font-size:32px\"><b>Introduction</b></div>\n",
    "<hr style=\"height:6px;background-color:#6c9596;border-radius:4px\">"
   ]
  },
  {
   "cell_type": "markdown",
   "id": "f75ef3b7",
   "metadata": {},
   "source": [
    "<div style=\"line-height:40px;font-size=28px\">\n",
    "    <p style=\"line-height:30px\">Dengue is a virus that is transmitted by female Aedes Egypt Mosquito, mostly presented in tropical and subtropical areas of the world. It is most common in the most rainy months, in reason of the reproduction of the mosquito in stationary water.</p>\n",
    "    <p style=\"line-height:30px\">This extracted data is from Brazil, grouped by the UF (state), Year and Month, which join with the rain data of the time.</p>\n",
    "</div>"
   ]
  },
  {
   "cell_type": "markdown",
   "id": "ebc1eb96",
   "metadata": {},
   "source": [
    "<div style=\"font-size:32px\"><b>Imports</b></div>\n",
    "<hr style=\"height:6px;background-color:#6c9596;border-radius:4px\">"
   ]
  },
  {
   "cell_type": "code",
   "execution_count": 9,
   "id": "ce0dd3b2",
   "metadata": {},
   "outputs": [],
   "source": [
    "# Data Manipulation\n",
    "import pandas as pd\n",
    "import numpy as np\n",
    "\n",
    "# Data Visualization\n",
    "import matplotlib.pyplot as plt\n",
    "from matplotlib.lines import Line2D\n",
    "import seaborn as sns"
   ]
  },
  {
   "cell_type": "markdown",
   "id": "4c99fd68",
   "metadata": {},
   "source": [
    "<div style=\"font-size:32px\"><b>Understading the Data</b></div>\n",
    "<hr style=\"height:6px;background-color:#6c9596;border-radius:4px\">"
   ]
  },
  {
   "cell_type": "code",
   "execution_count": 2,
   "id": "d16cae96",
   "metadata": {},
   "outputs": [
    {
     "data": {
      "text/html": [
       "<div>\n",
       "<style scoped>\n",
       "    .dataframe tbody tr th:only-of-type {\n",
       "        vertical-align: middle;\n",
       "    }\n",
       "\n",
       "    .dataframe tbody tr th {\n",
       "        vertical-align: top;\n",
       "    }\n",
       "\n",
       "    .dataframe thead th {\n",
       "        text-align: right;\n",
       "    }\n",
       "</style>\n",
       "<table border=\"1\" class=\"dataframe\">\n",
       "  <thead>\n",
       "    <tr style=\"text-align: right;\">\n",
       "      <th></th>\n",
       "      <th>uf</th>\n",
       "      <th>year</th>\n",
       "      <th>month</th>\n",
       "      <th>rain</th>\n",
       "      <th>dengue</th>\n",
       "    </tr>\n",
       "  </thead>\n",
       "  <tbody>\n",
       "    <tr>\n",
       "      <th>0</th>\n",
       "      <td>SP</td>\n",
       "      <td>2015</td>\n",
       "      <td>1</td>\n",
       "      <td>4465.0</td>\n",
       "      <td>772.0</td>\n",
       "    </tr>\n",
       "    <tr>\n",
       "      <th>1</th>\n",
       "      <td>SP</td>\n",
       "      <td>2015</td>\n",
       "      <td>2</td>\n",
       "      <td>6595.0</td>\n",
       "      <td>3086.0</td>\n",
       "    </tr>\n",
       "    <tr>\n",
       "      <th>2</th>\n",
       "      <td>SP</td>\n",
       "      <td>2015</td>\n",
       "      <td>3</td>\n",
       "      <td>6210.6</td>\n",
       "      <td>8824.0</td>\n",
       "    </tr>\n",
       "    <tr>\n",
       "      <th>3</th>\n",
       "      <td>SP</td>\n",
       "      <td>2015</td>\n",
       "      <td>4</td>\n",
       "      <td>1862.0</td>\n",
       "      <td>9932.0</td>\n",
       "    </tr>\n",
       "    <tr>\n",
       "      <th>4</th>\n",
       "      <td>SP</td>\n",
       "      <td>2015</td>\n",
       "      <td>5</td>\n",
       "      <td>2756.6</td>\n",
       "      <td>8919.0</td>\n",
       "    </tr>\n",
       "  </tbody>\n",
       "</table>\n",
       "</div>"
      ],
      "text/plain": [
       "   uf  year  month    rain  dengue\n",
       "0  SP  2015      1  4465.0   772.0\n",
       "1  SP  2015      2  6595.0  3086.0\n",
       "2  SP  2015      3  6210.6  8824.0\n",
       "3  SP  2015      4  1862.0  9932.0\n",
       "4  SP  2015      5  2756.6  8919.0"
      ]
     },
     "execution_count": 2,
     "metadata": {},
     "output_type": "execute_result"
    }
   ],
   "source": [
    "data = pd.read_csv(\"./output_data/result-00000-of-00001.csv\", delimiter=\";\")\n",
    "data.head()"
   ]
  },
  {
   "cell_type": "code",
   "execution_count": 3,
   "id": "0afe46e9",
   "metadata": {},
   "outputs": [
    {
     "data": {
      "text/plain": [
       "(420, 5)"
      ]
     },
     "execution_count": 3,
     "metadata": {},
     "output_type": "execute_result"
    }
   ],
   "source": [
    "data.shape"
   ]
  },
  {
   "cell_type": "code",
   "execution_count": 4,
   "id": "f95e0a47",
   "metadata": {},
   "outputs": [
    {
     "data": {
      "text/html": [
       "<div>\n",
       "<style scoped>\n",
       "    .dataframe tbody tr th:only-of-type {\n",
       "        vertical-align: middle;\n",
       "    }\n",
       "\n",
       "    .dataframe tbody tr th {\n",
       "        vertical-align: top;\n",
       "    }\n",
       "\n",
       "    .dataframe thead th {\n",
       "        text-align: right;\n",
       "    }\n",
       "</style>\n",
       "<table border=\"1\" class=\"dataframe\">\n",
       "  <thead>\n",
       "    <tr style=\"text-align: right;\">\n",
       "      <th></th>\n",
       "      <th>year</th>\n",
       "      <th>month</th>\n",
       "      <th>rain</th>\n",
       "      <th>dengue</th>\n",
       "    </tr>\n",
       "  </thead>\n",
       "  <tbody>\n",
       "    <tr>\n",
       "      <th>year</th>\n",
       "      <td>1.000000e+00</td>\n",
       "      <td>7.920083e-15</td>\n",
       "      <td>0.080571</td>\n",
       "      <td>-0.104368</td>\n",
       "    </tr>\n",
       "    <tr>\n",
       "      <th>month</th>\n",
       "      <td>7.920083e-15</td>\n",
       "      <td>1.000000e+00</td>\n",
       "      <td>-0.000032</td>\n",
       "      <td>-0.308431</td>\n",
       "    </tr>\n",
       "    <tr>\n",
       "      <th>rain</th>\n",
       "      <td>8.057089e-02</td>\n",
       "      <td>-3.195463e-05</td>\n",
       "      <td>1.000000</td>\n",
       "      <td>-0.068921</td>\n",
       "    </tr>\n",
       "    <tr>\n",
       "      <th>dengue</th>\n",
       "      <td>-1.043682e-01</td>\n",
       "      <td>-3.084315e-01</td>\n",
       "      <td>-0.068921</td>\n",
       "      <td>1.000000</td>\n",
       "    </tr>\n",
       "  </tbody>\n",
       "</table>\n",
       "</div>"
      ],
      "text/plain": [
       "                year         month      rain    dengue\n",
       "year    1.000000e+00  7.920083e-15  0.080571 -0.104368\n",
       "month   7.920083e-15  1.000000e+00 -0.000032 -0.308431\n",
       "rain    8.057089e-02 -3.195463e-05  1.000000 -0.068921\n",
       "dengue -1.043682e-01 -3.084315e-01 -0.068921  1.000000"
      ]
     },
     "execution_count": 4,
     "metadata": {},
     "output_type": "execute_result"
    }
   ],
   "source": [
    "data.corr()"
   ]
  },
  {
   "cell_type": "markdown",
   "id": "fecaa6bb",
   "metadata": {},
   "source": [
    "<div style=\"font-size:32px\"><b>Data by Time</b></div>\n",
    "<hr style=\"height:6px;background-color:#6c9596;border-radius:4px\">"
   ]
  },
  {
   "cell_type": "code",
   "execution_count": 6,
   "id": "dafd8a64",
   "metadata": {},
   "outputs": [],
   "source": [
    "grouped_month = data.groupby('month').mean().reset_index()"
   ]
  },
  {
   "cell_type": "code",
   "execution_count": 96,
   "id": "e6a131f4",
   "metadata": {},
   "outputs": [
    {
     "data": {
      "image/png": "[encoded data removed]",
      "text/plain": [
       "<Figure size 1152x720 with 1 Axes>"
      ]
     },
     "metadata": {
      "needs_background": "light"
     },
     "output_type": "display_data"
    }
   ],
   "source": [
    "# Dengue\n",
    "ax = sns.barplot(data=grouped_month, x='month', y = 'dengue', palette = 'Oranges_r')\n",
    "\n",
    "# Rain\n",
    "sns.lineplot(x=np.arange(0, 12, 1), y = grouped_month['rain'], linewidth=8, color=\"#12aecd\", marker=\"o\", markersize=12)\n",
    "\n",
    "# Visualization\n",
    "ax.figure.set_size_inches(16, 10)\n",
    "ax.set_ylabel(\"\")\n",
    "ax.set_xlabel(\"Month\", fontsize=14)\n",
    "ax.set_title(\"Rain and Dengue per Month\", fontsize=18)\n",
    "\n",
    "plt.xticks(fontsize=12)\n",
    "plt.yticks([])\n",
    "\n",
    "ax.spines['top'].set_visible(False)\n",
    "ax.spines['right'].set_visible(False)\n",
    "ax.spines['left'].set_visible(False)\n",
    "ax.spines['bottom'].set(linewidth = 2)\n",
    "\n",
    "# Legend\n",
    "custom_colors = [Line2D([0], [0], color=sns.color_palette('Oranges_r')[2], lw=6),\n",
    "                 Line2D([0], [0], color=\"#12aecd\", lw=6)]\n",
    "plt.legend(custom_colors, [\"Dengue\", \"Rain\"], fontsize=14)\n",
    "\n",
    "plt.show()"
   ]
  },
  {
   "cell_type": "markdown",
   "id": "9854d940",
   "metadata": {},
   "source": [
    "<div style=\"line-height:40px;font-size=28px\">\n",
    "    <p style=\"line-height:30px\">As expected, the months with the less rain - June, July and August (winter in Brazil) until October are the months with less dengue occurence.</p>\n",
    "</div>"
   ]
  },
  {
   "cell_type": "code",
   "execution_count": 43,
   "id": "303291be",
   "metadata": {},
   "outputs": [
    {
     "data": {
      "text/html": [
       "<div>\n",
       "<style scoped>\n",
       "    .dataframe tbody tr th:only-of-type {\n",
       "        vertical-align: middle;\n",
       "    }\n",
       "\n",
       "    .dataframe tbody tr th {\n",
       "        vertical-align: top;\n",
       "    }\n",
       "\n",
       "    .dataframe thead th {\n",
       "        text-align: right;\n",
       "    }\n",
       "</style>\n",
       "<table border=\"1\" class=\"dataframe\">\n",
       "  <thead>\n",
       "    <tr style=\"text-align: right;\">\n",
       "      <th></th>\n",
       "      <th>year</th>\n",
       "      <th>month</th>\n",
       "      <th>rain</th>\n",
       "      <th>dengue</th>\n",
       "    </tr>\n",
       "  </thead>\n",
       "  <tbody>\n",
       "    <tr>\n",
       "      <th>0</th>\n",
       "      <td>2015</td>\n",
       "      <td>6.5</td>\n",
       "      <td>2822.128571</td>\n",
       "      <td>3989.202381</td>\n",
       "    </tr>\n",
       "    <tr>\n",
       "      <th>1</th>\n",
       "      <td>2016</td>\n",
       "      <td>6.5</td>\n",
       "      <td>2865.280952</td>\n",
       "      <td>6193.357143</td>\n",
       "    </tr>\n",
       "    <tr>\n",
       "      <th>2</th>\n",
       "      <td>2017</td>\n",
       "      <td>6.5</td>\n",
       "      <td>3189.007143</td>\n",
       "      <td>1509.654762</td>\n",
       "    </tr>\n",
       "    <tr>\n",
       "      <th>3</th>\n",
       "      <td>2018</td>\n",
       "      <td>6.5</td>\n",
       "      <td>3502.028571</td>\n",
       "      <td>877.202381</td>\n",
       "    </tr>\n",
       "    <tr>\n",
       "      <th>4</th>\n",
       "      <td>2019</td>\n",
       "      <td>6.5</td>\n",
       "      <td>3378.078571</td>\n",
       "      <td>4306.547619</td>\n",
       "    </tr>\n",
       "  </tbody>\n",
       "</table>\n",
       "</div>"
      ],
      "text/plain": [
       "   year  month         rain       dengue\n",
       "0  2015    6.5  2822.128571  3989.202381\n",
       "1  2016    6.5  2865.280952  6193.357143\n",
       "2  2017    6.5  3189.007143  1509.654762\n",
       "3  2018    6.5  3502.028571   877.202381\n",
       "4  2019    6.5  3378.078571  4306.547619"
      ]
     },
     "execution_count": 43,
     "metadata": {},
     "output_type": "execute_result"
    }
   ],
   "source": [
    "grouped_year = data.groupby('year').mean().reset_index()\n",
    "grouped_year"
   ]
  },
  {
   "cell_type": "code",
   "execution_count": 64,
   "id": "56c19eba",
   "metadata": {},
   "outputs": [
    {
     "data": {
      "image/png": "[encoded data removed]",
      "text/plain": [
       "<Figure size 1152x720 with 1 Axes>"
      ]
     },
     "metadata": {
      "needs_background": "light"
     },
     "output_type": "display_data"
    }
   ],
   "source": [
    "# Dengue\n",
    "ax = sns.barplot(data=grouped_year, x='year', y = 'dengue', palette = 'Oranges_r')\n",
    "\n",
    "# Rain\n",
    "sns.lineplot(x=np.arange(0, 5, 1), y = grouped_year['rain'], linewidth=8, color=\"#12aecd\", marker=\"o\", markersize=12)\n",
    "\n",
    "# Visualization\n",
    "ax.figure.set_size_inches(16, 10)\n",
    "ax.set_ylabel(\"\")\n",
    "ax.set_xlabel(\"Year\", fontsize=14)\n",
    "ax.set_title(\"Rain and Dengue per Year\", fontsize=18)\n",
    "\n",
    "plt.xticks(fontsize=12)\n",
    "plt.yticks([])\n",
    "\n",
    "ax.spines['top'].set_visible(False)\n",
    "ax.spines['right'].set_visible(False)\n",
    "ax.spines['left'].set_visible(False)\n",
    "ax.spines['bottom'].set(linewidth = 2)\n",
    "\n",
    "# Legend\n",
    "custom_colors = [Line2D([0], [0], color=sns.color_palette('Oranges_r')[2], lw=6),\n",
    "                 Line2D([0], [0], color=\"#12aecd\", lw=6)]\n",
    "plt.legend(custom_colors, [\"Dengue\", \"Rain\"], fontsize=14)\n",
    "\n",
    "plt.show()"
   ]
  },
  {
   "cell_type": "markdown",
   "id": "e2962f2f",
   "metadata": {},
   "source": [
    "<div style=\"line-height:40px;font-size=28px\">\n",
    "    <p style=\"line-height:30px\">The rain data remained constant through years, while the dengue occurence dropped a lot in 2017 and 2018, in reason of great campaign from the government against the reproduction of the mosquito, owing to huge occurence in past years. In 2019, the virus went up again because of mutations that made the reproduction easier, besides the relaxation of the government and people.</p>\n",
    "</div>"
   ]
  },
  {
   "cell_type": "markdown",
   "id": "6aab53ca",
   "metadata": {},
   "source": [
    "<div style=\"font-size:32px\">Analyzing UFs</div>\n",
    "<hr style=\"height:6px;background-color:#6c9596;border-radius:4px\">"
   ]
  },
  {
   "cell_type": "code",
   "execution_count": 23,
   "id": "d781bd45",
   "metadata": {},
   "outputs": [
    {
     "data": {
      "text/html": [
       "<div>\n",
       "<style scoped>\n",
       "    .dataframe tbody tr th:only-of-type {\n",
       "        vertical-align: middle;\n",
       "    }\n",
       "\n",
       "    .dataframe tbody tr th {\n",
       "        vertical-align: top;\n",
       "    }\n",
       "\n",
       "    .dataframe thead th {\n",
       "        text-align: right;\n",
       "    }\n",
       "</style>\n",
       "<table border=\"1\" class=\"dataframe\">\n",
       "  <thead>\n",
       "    <tr style=\"text-align: right;\">\n",
       "      <th></th>\n",
       "      <th>uf</th>\n",
       "      <th>year</th>\n",
       "      <th>month</th>\n",
       "      <th>rain</th>\n",
       "      <th>dengue</th>\n",
       "    </tr>\n",
       "  </thead>\n",
       "  <tbody>\n",
       "    <tr>\n",
       "      <th>0</th>\n",
       "      <td>CE</td>\n",
       "      <td>2017.0</td>\n",
       "      <td>6.5</td>\n",
       "      <td>737.556667</td>\n",
       "      <td>3919.266667</td>\n",
       "    </tr>\n",
       "    <tr>\n",
       "      <th>1</th>\n",
       "      <td>ES</td>\n",
       "      <td>2017.0</td>\n",
       "      <td>6.5</td>\n",
       "      <td>946.993333</td>\n",
       "      <td>3489.400000</td>\n",
       "    </tr>\n",
       "    <tr>\n",
       "      <th>2</th>\n",
       "      <td>MG</td>\n",
       "      <td>2017.0</td>\n",
       "      <td>6.5</td>\n",
       "      <td>5527.416667</td>\n",
       "      <td>2199.500000</td>\n",
       "    </tr>\n",
       "    <tr>\n",
       "      <th>3</th>\n",
       "      <td>PR</td>\n",
       "      <td>2017.0</td>\n",
       "      <td>6.5</td>\n",
       "      <td>2928.593333</td>\n",
       "      <td>7791.850000</td>\n",
       "    </tr>\n",
       "    <tr>\n",
       "      <th>4</th>\n",
       "      <td>RJ</td>\n",
       "      <td>2017.0</td>\n",
       "      <td>6.5</td>\n",
       "      <td>2368.823333</td>\n",
       "      <td>3576.333333</td>\n",
       "    </tr>\n",
       "    <tr>\n",
       "      <th>5</th>\n",
       "      <td>RS</td>\n",
       "      <td>2017.0</td>\n",
       "      <td>6.5</td>\n",
       "      <td>5605.466667</td>\n",
       "      <td>39.550000</td>\n",
       "    </tr>\n",
       "    <tr>\n",
       "      <th>6</th>\n",
       "      <td>SP</td>\n",
       "      <td>2017.0</td>\n",
       "      <td>6.5</td>\n",
       "      <td>3944.283333</td>\n",
       "      <td>2610.450000</td>\n",
       "    </tr>\n",
       "  </tbody>\n",
       "</table>\n",
       "</div>"
      ],
      "text/plain": [
       "   uf    year  month         rain       dengue\n",
       "0  CE  2017.0    6.5   737.556667  3919.266667\n",
       "1  ES  2017.0    6.5   946.993333  3489.400000\n",
       "2  MG  2017.0    6.5  5527.416667  2199.500000\n",
       "3  PR  2017.0    6.5  2928.593333  7791.850000\n",
       "4  RJ  2017.0    6.5  2368.823333  3576.333333\n",
       "5  RS  2017.0    6.5  5605.466667    39.550000\n",
       "6  SP  2017.0    6.5  3944.283333  2610.450000"
      ]
     },
     "execution_count": 23,
     "metadata": {},
     "output_type": "execute_result"
    }
   ],
   "source": [
    "grouped_uf = data.groupby(\"uf\").mean().reset_index()\n",
    "grouped_uf"
   ]
  },
  {
   "cell_type": "code",
   "execution_count": 42,
   "id": "73bfcece",
   "metadata": {},
   "outputs": [
    {
     "data": {
      "image/png": "[encoded data removed]",
      "text/plain": [
       "<Figure size 1152x720 with 1 Axes>"
      ]
     },
     "metadata": {
      "needs_background": "light"
     },
     "output_type": "display_data"
    }
   ],
   "source": [
    "ax = sns.scatterplot(data = grouped_uf, x = \"dengue\", y = \"rain\", hue = \"uf\", s= 600)\n",
    "ax.figure.set_size_inches(16, 10)\n",
    "\n",
    "# Visualization\n",
    "ax.set_ylabel(\"Rain\", fontsize=14)\n",
    "ax.set_xlabel(\"Dengue\", fontsize=14)\n",
    "ax.set_title(\"UFs Dengue x Rain Correlation\", fontsize=18)\n",
    "\n",
    "plt.xticks(fontsize=12)\n",
    "plt.yticks(fontsize=12)\n",
    "\n",
    "ax.spines['top'].set_visible(False)\n",
    "ax.spines['right'].set_visible(False)\n",
    "ax.spines['left'].set(linewidth = 2)\n",
    "ax.spines['bottom'].set(linewidth = 2)\n",
    "\n",
    "# Text for UFs\n",
    "for index, row in grouped_uf.iterrows():\n",
    "    plt.text(s = row['uf'], x = row['dengue'], y = row['rain'] + 180,\n",
    "            ha = 'center', fontsize=18)\n",
    "\n",
    "plt.legend().remove()\n",
    "plt.show()"
   ]
  },
  {
   "cell_type": "markdown",
   "id": "a5bfeb0c",
   "metadata": {},
   "source": [
    "<div style=\"line-height:40px;font-size=28px\">\n",
    "    <p style=\"line-height:30px\">RS (Rio Grande do Sul) despite being the most rainy UF, had an almost null occurence of dengue in the interval of time. SP (São Paulo) and MG (Minas Gerais) had a balance between rain and dengue.</p>\n",
    "    <p style=\"line-height:30px\">In other hand, ES (Espírito Santo) and CE (Ceará) had a small rain data compared to the others in the period, while surpasses RS, MG and SP in dengue occurence.</p>\n",
    "    <p style=\"line-height:30px\">PR (Paraná) had the most dengue occurence at same time that didn't was very rainy, it is an anomaly.</p>\n",
    "</div>"
   ]
  },
  {
   "cell_type": "markdown",
   "id": "ec7cf4e2",
   "metadata": {},
   "source": [
    "<div style=\"font-size:32px\">Dates with most Dengue Occurence</div>\n",
    "<hr style=\"height:6px;background-color:#6c9596;border-radius:4px\">"
   ]
  },
  {
   "cell_type": "code",
   "execution_count": 87,
   "id": "5057cfad",
   "metadata": {},
   "outputs": [
    {
     "data": {
      "text/html": [
       "<div>\n",
       "<style scoped>\n",
       "    .dataframe tbody tr th:only-of-type {\n",
       "        vertical-align: middle;\n",
       "    }\n",
       "\n",
       "    .dataframe tbody tr th {\n",
       "        vertical-align: top;\n",
       "    }\n",
       "\n",
       "    .dataframe thead th {\n",
       "        text-align: right;\n",
       "    }\n",
       "</style>\n",
       "<table border=\"1\" class=\"dataframe\">\n",
       "  <thead>\n",
       "    <tr style=\"text-align: right;\">\n",
       "      <th></th>\n",
       "      <th>index</th>\n",
       "      <th>uf</th>\n",
       "      <th>year</th>\n",
       "      <th>month</th>\n",
       "      <th>rain</th>\n",
       "      <th>dengue</th>\n",
       "    </tr>\n",
       "  </thead>\n",
       "  <tbody>\n",
       "    <tr>\n",
       "      <th>0</th>\n",
       "      <td>94</td>\n",
       "      <td>PR</td>\n",
       "      <td>2016</td>\n",
       "      <td>2</td>\n",
       "      <td>4652.6</td>\n",
       "      <td>56305.0</td>\n",
       "    </tr>\n",
       "    <tr>\n",
       "      <th>1</th>\n",
       "      <td>95</td>\n",
       "      <td>PR</td>\n",
       "      <td>2016</td>\n",
       "      <td>3</td>\n",
       "      <td>2390.4</td>\n",
       "      <td>48403.0</td>\n",
       "    </tr>\n",
       "    <tr>\n",
       "      <th>2</th>\n",
       "      <td>96</td>\n",
       "      <td>PR</td>\n",
       "      <td>2016</td>\n",
       "      <td>4</td>\n",
       "      <td>1584.8</td>\n",
       "      <td>40074.0</td>\n",
       "    </tr>\n",
       "    <tr>\n",
       "      <th>3</th>\n",
       "      <td>93</td>\n",
       "      <td>PR</td>\n",
       "      <td>2016</td>\n",
       "      <td>1</td>\n",
       "      <td>3801.2</td>\n",
       "      <td>39460.0</td>\n",
       "    </tr>\n",
       "    <tr>\n",
       "      <th>4</th>\n",
       "      <td>51</td>\n",
       "      <td>PR</td>\n",
       "      <td>2015</td>\n",
       "      <td>4</td>\n",
       "      <td>1249.4</td>\n",
       "      <td>25386.0</td>\n",
       "    </tr>\n",
       "    <tr>\n",
       "      <th>5</th>\n",
       "      <td>350</td>\n",
       "      <td>SP</td>\n",
       "      <td>2019</td>\n",
       "      <td>3</td>\n",
       "      <td>6784.0</td>\n",
       "      <td>25134.0</td>\n",
       "    </tr>\n",
       "    <tr>\n",
       "      <th>6</th>\n",
       "      <td>400</td>\n",
       "      <td>PR</td>\n",
       "      <td>2019</td>\n",
       "      <td>5</td>\n",
       "      <td>4169.6</td>\n",
       "      <td>24737.0</td>\n",
       "    </tr>\n",
       "    <tr>\n",
       "      <th>7</th>\n",
       "      <td>123</td>\n",
       "      <td>MG</td>\n",
       "      <td>2016</td>\n",
       "      <td>2</td>\n",
       "      <td>5036.4</td>\n",
       "      <td>23590.0</td>\n",
       "    </tr>\n",
       "  </tbody>\n",
       "</table>\n",
       "</div>"
      ],
      "text/plain": [
       "   index  uf  year  month    rain   dengue\n",
       "0     94  PR  2016      2  4652.6  56305.0\n",
       "1     95  PR  2016      3  2390.4  48403.0\n",
       "2     96  PR  2016      4  1584.8  40074.0\n",
       "3     93  PR  2016      1  3801.2  39460.0\n",
       "4     51  PR  2015      4  1249.4  25386.0\n",
       "5    350  SP  2019      3  6784.0  25134.0\n",
       "6    400  PR  2019      5  4169.6  24737.0\n",
       "7    123  MG  2016      2  5036.4  23590.0"
      ]
     },
     "execution_count": 87,
     "metadata": {},
     "output_type": "execute_result"
    }
   ],
   "source": [
    "most_dengue = data.sort_values('dengue', ascending=False).head(8).reset_index()\n",
    "most_dengue"
   ]
  },
  {
   "cell_type": "code",
   "execution_count": 95,
   "id": "8c47f5b2",
   "metadata": {},
   "outputs": [
    {
     "data": {
      "image/png": "[encoded data removed]",
      "text/plain": [
       "<Figure size 1296x720 with 1 Axes>"
      ]
     },
     "metadata": {
      "needs_background": "light"
     },
     "output_type": "display_data"
    }
   ],
   "source": [
    "ax = sns.barplot(data = most_dengue, y = 'dengue', x = np.arange(0, 8, 1), \n",
    "                 hue = 'uf', dodge = False, palette=\"Set2\")\n",
    "\n",
    "# Visualization\n",
    "ax.figure.set_size_inches(18, 10)\n",
    "ax.set_ylabel(\"Dengue\", fontsize=14)\n",
    "ax.set_xlabel(\"\")\n",
    "ax.set_title(\"Dates with most Dengue Occurrence\", fontsize=24)\n",
    "\n",
    "plt.xticks([])\n",
    "plt.yticks(fontsize=12)\n",
    "\n",
    "ax.spines['top'].set_visible(False)\n",
    "ax.spines['right'].set_visible(False)\n",
    "ax.spines['left'].set(linewidth = 2)\n",
    "ax.spines['bottom'].set(linewidth = 2)\n",
    "\n",
    "plt.legend(fontsize=16)\n",
    "\n",
    "\n",
    "# Texts\n",
    "for index, row in most_dengue.iterrows():\n",
    "    text = \"0\" + str(row['month']) + \" / \" + \\\n",
    "            str(row['year']) + \"\\n\" + str(int(row['dengue']))\n",
    "    \n",
    "    y = row['dengue'] + 1000\n",
    "    plt.text(s=text, x = index, y = y, fontsize=16, ha='center')\n",
    "\n",
    "\n",
    "plt.show()"
   ]
  },
  {
   "cell_type": "markdown",
   "id": "f696e631",
   "metadata": {},
   "source": [
    "<div style=\"line-height:40px;font-size=28px\">\n",
    "    <p style=\"line-height:30px\">6 of the 8 months with the most dengue occurrence are from PR, which explains the anomaly in the data. The first third of the year 2016 for PR was the greatest concentration of dengue occurence.</p>\n",
    "</div>"
   ]
  }
 ],
 "metadata": {
  "kernelspec": {
   "display_name": "Python 3 (ipykernel)",
   "language": "python",
   "name": "python3"
  },
  "language_info": {
   "codemirror_mode": {
    "name": "ipython",
    "version": 3
   },
   "file_extension": ".py",
   "mimetype": "text/x-python",
   "name": "python",
   "nbconvert_exporter": "python",
   "pygments_lexer": "ipython3",
   "version": "3.9.7"
  }
 },
 "nbformat": 4,
 "nbformat_minor": 5
}
